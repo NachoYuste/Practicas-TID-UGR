{
 "cells": [
  {
   "cell_type": "markdown",
   "id": "80b53290",
   "metadata": {},
   "source": [
    "# Práctica I\n",
    "## Nombre: Ignacio Yuste López"
   ]
  },
  {
   "cell_type": "markdown",
   "id": "1634788e",
   "metadata": {},
   "source": [
    "1. Enumera algunas diferencias entre un lenguaje que uses y Python."
   ]
  },
  {
   "cell_type": "markdown",
   "id": "776e6612",
   "metadata": {},
   "source": [
    "    1. Declaración de estructuras \n",
    "\n",
    "Tanto en C++ como en Java las estructuras como \"for\" y \"while\" tienen una única forma de escribirse. Sin embargo, Python ofrece distintas formas de iterar sobre una lista y esto puede ser aprovechado para la declaración de estas estructuras.\n",
    "\n",
    "    2. Variables\n",
    "\n",
    "Es donde más diferencias se encuentran. Mientras que en C++ y Java no se puede inicializar una variable sin declarar a qué tipo pertenece (int, char, etc), en Python esto se hace automáticamente. Además, esta forma de entender las variables se extiende a las listas, por lo que podemos tener listas en cuyo interior se encuentren elementos de distinto tipo de dato, cosa que no se puede hacer en C++ y Java.\n",
    "\n",
    "Además, existe la diferencia entre datos mutables y no mutables. Una declaración del tipo \"a=5\" no es mutable mientras que una lista del tipo \"b=[1,2,3]\" sí que lo es ya que podemos cambiar el valor de los elementos accediendo con el operador \"[]\". Pero si cambiamos el valor de \"a\" lo que hacemos es asignarle un espacio de memoria distinto donde guardamos el nuevo valor, al contrario que en los otros lenguajes donde lo que se hace es cambiar el valor en el mismo espacio de memoria. Es por esto que decimos que es inmutable ya que los datos del espacio de memoria que se asignó en un principio no cambia.\n",
    "\n",
    "    3. Funciones\n",
    "Las funciones se ven afectadas por la mutabilidad de los datos. En C++ tenemos el tipo de dato puntero con el que podemos manejar la información independientemente del espacio en el que estemos trabajando (main, método, función, etc) pero en Python no existe tal cosa. Sin embargo, existe el concepto de mutabilidad por lo que si necesitamos que haya variables a las que queremos acceder desde múltiples sitio necesitaremos que sean mutables, como las listas. Al igual que en C++, si creamos una variable en una función con el mismo nombre de otra variable en el main, se creará una varibale completamente nueva en el espacio \"local\" de la función y se eliminará cuando la función haya acabado.\n",
    "\n",
    "    4. Funcionalidades incorporadas\n",
    "Sin el uso de módulos extra, Python cuenta con funcionalidades como los distintos tipos de estructura de datos (lista, tupla, set, diccionario) mientras que en los otros lenguajes necesitamos el uso de bibliotecas externas para esto. También cuenta con una amplia biblioteca de módulos para todo tipo de programas y al ser uno de los lenguajes más de moda en la actualidad podemos encontrar funcionalidades muy interesantes y modernas."
   ]
  },
  {
   "cell_type": "markdown",
   "id": "13faea8f",
   "metadata": {},
   "source": [
    "2. Escribe un programa en Python que imprima números del 10 al 20 usando un bucle for."
   ]
  },
  {
   "cell_type": "code",
   "execution_count": 4,
   "id": "c262e054",
   "metadata": {},
   "outputs": [
    {
     "name": "stdout",
     "output_type": "stream",
     "text": [
      "10\n",
      "11\n",
      "12\n",
      "13\n",
      "14\n",
      "15\n",
      "16\n",
      "17\n",
      "18\n",
      "19\n",
      "20\n"
     ]
    }
   ],
   "source": [
    "for i in range(10,21):\n",
    "    print(i)"
   ]
  },
  {
   "cell_type": "markdown",
   "id": "a60c68e8",
   "metadata": {},
   "source": [
    "3. Crea una lista de nombres de provincias, como \n",
    "\n",
    "    provincias = ['Granada','Jaen,'Almería', 'Burgos']. \n",
    "\n",
    "Agrega otra entrada, 'Madrid' al final de la lista. Luego, imprime todos los valores de esta lista."
   ]
  },
  {
   "cell_type": "code",
   "execution_count": 2,
   "id": "ccd6fa65",
   "metadata": {},
   "outputs": [
    {
     "name": "stdout",
     "output_type": "stream",
     "text": [
      "['Granada', 'Jaén', 'Almería', 'Burgos', 'Madrid']\n"
     ]
    }
   ],
   "source": [
    "provincias = ['Granada','Jaén','Almería','Burgos']\n",
    "provincias.append('Madrid')\n",
    "print(provincias)"
   ]
  },
  {
   "cell_type": "markdown",
   "id": "26146985",
   "metadata": {},
   "source": [
    "4. Imprime el contenido de la lista de la Pregunta 3 y también el índice correspondiente usando el método sobre listas `enumerate` en el bucle."
   ]
  },
  {
   "cell_type": "code",
   "execution_count": 9,
   "id": "1d086511",
   "metadata": {},
   "outputs": [
    {
     "name": "stdout",
     "output_type": "stream",
     "text": [
      "[(0, 'Granada'), (1, 'Jaén'), (2, 'Almería'), (3, 'Burgos'), (4, 'Madrid')]\n"
     ]
    }
   ],
   "source": [
    "enumeradas = enumerate(provincias)\n",
    "print(list(enumeradas))"
   ]
  },
  {
   "cell_type": "markdown",
   "id": "7e7389de",
   "metadata": {},
   "source": [
    "5. Crea una lista que tenga tres listas cada una con tres elementos distintos de : 1,2,3|4,5,6|7,8,9."
   ]
  },
  {
   "cell_type": "code",
   "execution_count": 11,
   "id": "7e13d7b3",
   "metadata": {},
   "outputs": [
    {
     "name": "stdout",
     "output_type": "stream",
     "text": [
      "[[1, 2, 3], [4, 5, 6], [7, 8, 9]]\n"
     ]
    }
   ],
   "source": [
    "lista1 = [[j+(3*i) for j in range(1,4)]for i in range(0,3)]\n",
    "print(lista1)"
   ]
  },
  {
   "cell_type": "markdown",
   "id": "78896c82",
   "metadata": {},
   "source": [
    "6. Crea una lista con tres listas, cada una de ellas contendrá tres listas de dos  elementos, a partir de los números del 1 al 18 (no se pueden repetir."
   ]
  },
  {
   "cell_type": "code",
   "execution_count": 2,
   "id": "a5c66e07",
   "metadata": {},
   "outputs": [
    {
     "name": "stdout",
     "output_type": "stream",
     "text": [
      "[[[1, 2], [3, 4], [5, 6]], [[7, 8], [9, 10], [11, 12]], [[13, 14], [15, 16], [17, 18]]]\n"
     ]
    }
   ],
   "source": [
    "lista2 = [[[k + (2*j) + (2*3*i) for k in range(1,3)] for j in range (0,3)] for i in range(0,3)]\n",
    "print(lista2)"
   ]
  },
  {
   "cell_type": "markdown",
   "id": "98e56ea6",
   "metadata": {},
   "source": [
    "7. Es fácil convertir una lista a un conjunto y viceversa. Por ejemplo la lista `milista=[1,2,1,4,5,5]` puede convertirse en un conjunto usando `conjunto=set(milista)`. Podemos obtener una lista a partir de un conjunto usando `nuevalista=list(conjunto)`. Explica el resultado."
   ]
  },
  {
   "cell_type": "markdown",
   "id": "9679be58",
   "metadata": {},
   "source": [
    "El resultado es la lista original sin ningún dato que se repita. Esto se debe a que el método \"set\" transforma la lista a un \"conjunto\", el cual es una estructura de datos desordenados donde no se repiten, por lo que los elementos repetidos desaparecen. Para volver a tener una estructura de tipo \"lista\" usamos el método \"list\"."
   ]
  },
  {
   "cell_type": "code",
   "execution_count": 5,
   "id": "f0f1e1f0",
   "metadata": {},
   "outputs": [
    {
     "name": "stdout",
     "output_type": "stream",
     "text": [
      "[1, 2, 1, 4, 5, 5]\n",
      "[1, 2, 4, 5]\n"
     ]
    }
   ],
   "source": [
    "milista = [1,2,1,4,5,5]\n",
    "conjunto = set(milista)\n",
    "nuevalista = list(conjunto)\n",
    "print(milista)\n",
    "print(nuevalista)"
   ]
  },
  {
   "cell_type": "markdown",
   "id": "30c0b3fb",
   "metadata": {},
   "source": [
    "8. Busca documentación para el método `join` y une los contenidos de la lista ['Minneapolis','MN','USA'] y obten la cadena 'Minneapolis, MN, USA'.\n"
   ]
  },
  {
   "cell_type": "code",
   "execution_count": 4,
   "id": "0c449714",
   "metadata": {},
   "outputs": [
    {
     "name": "stdout",
     "output_type": "stream",
     "text": [
      "['Minneapolis', 'MN', 'USA']\n",
      "Minneapolis, MN, USA\n"
     ]
    }
   ],
   "source": [
    "sitios = ['Minneapolis','MN','USA'] \n",
    "sitios_unidos = \", \".join(sitios)\n",
    "print(sitios)\n",
    "print(sitios_unidos)"
   ]
  },
  {
   "cell_type": "markdown",
   "id": "eb6f752c",
   "metadata": {},
   "source": [
    "9. Considera el código siguiente y reescríbelo más concisamente usando listas por comprensión."
   ]
  },
  {
   "cell_type": "code",
   "execution_count": null,
   "id": "f71d72d6",
   "metadata": {},
   "outputs": [],
   "source": [
    "a = [1,2,3,4,2,3,5]\n",
    "b = []\n",
    "for i in a:\n",
    "    if i>2:\n",
    "        b.append(i)\n",
    "print(b)"
   ]
  },
  {
   "cell_type": "code",
   "execution_count": 3,
   "id": "9b47a78d",
   "metadata": {},
   "outputs": [
    {
     "name": "stdout",
     "output_type": "stream",
     "text": [
      "[3, 4, 3, 5]\n"
     ]
    }
   ],
   "source": [
    "a = [1,2,3,4,2,3,5]\n",
    "b = [i for i in a if i>2]\n",
    "print(b)"
   ]
  }
 ],
 "metadata": {
  "kernelspec": {
   "display_name": "TID",
   "language": "python",
   "name": "tid"
  },
  "language_info": {
   "codemirror_mode": {
    "name": "ipython",
    "version": 3
   },
   "file_extension": ".py",
   "mimetype": "text/x-python",
   "name": "python",
   "nbconvert_exporter": "python",
   "pygments_lexer": "ipython3",
   "version": "3.6.13"
  }
 },
 "nbformat": 4,
 "nbformat_minor": 5
}
