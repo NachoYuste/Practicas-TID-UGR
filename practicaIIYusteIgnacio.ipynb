{
 "cells": [
  {
   "cell_type": "markdown",
   "id": "38e99bb1",
   "metadata": {},
   "source": [
    "# Práctica II \n",
    "## Nombre: Ignacio Yuste López"
   ]
  },
  {
   "cell_type": "markdown",
   "id": "3d825c33",
   "metadata": {},
   "source": [
    "1. El algoritmo de Luhn es una suma de verificación para validar números de tarjetas y cuentas bancarias.  Implementa la función `is_luhn_valid(cc)`que devuelva una variable booleana que toma el valor `True` si la hilera `cc` es válida y `False`en caso contrario. La hilera de caracteres, que contendrá números, puede tener espacios entre ellos. Por ejemplo, '4799 2739 8713 6272'."
   ]
  },
  {
   "cell_type": "code",
   "execution_count": 7,
   "id": "16277472",
   "metadata": {},
   "outputs": [
    {
     "name": "stdout",
     "output_type": "stream",
     "text": [
      "Numero 1: 1234567812345670-> True\n",
      "Numero 2: 1234567812345678-> False\n"
     ]
    }
   ],
   "source": [
    "def is_luhn_valid(hilera):\n",
    "    hilera_mod = list(hilera.replace(\" \",\"\"))\n",
    "    hilera_mod = hilera_mod[::-1]\n",
    "    sum_total = 0\n",
    "    \n",
    "    for i in range(0,len(hilera_mod)):\n",
    "        \n",
    "        #Multiplico por 2 los elementos en índices pares\n",
    "        if(i%2==1):\n",
    "            hilera_mod[i]=2*int(hilera_mod[i])\n",
    "        \n",
    "        #Separo los dígitos de los números y los sumo\n",
    "        dig1 = int(hilera_mod[i])//10\n",
    "        dig2 = int(hilera_mod[i])%10\n",
    "        hilera_mod[i] = dig1+dig2\n",
    "        \n",
    "        #Sumo todos los elementos\n",
    "        sum_total+=hilera_mod[i]\n",
    "        \n",
    "    return sum_total%10==0\n",
    "    \n",
    "\n",
    "numero =  '1234 5678 12345670'\n",
    "numero2 = '1234 5678 12345678'\n",
    "print(\"Numero 1: 1234567812345670 ->\",format(is_luhn_valid(numero)))\n",
    "print(\"Numero 2: 1234567812345678 ->\",format(is_luhn_valid(numero2)))\n",
    "            "
   ]
  },
  {
   "cell_type": "code",
   "execution_count": null,
   "id": "4cb04a8f",
   "metadata": {},
   "outputs": [],
   "source": [
    "#Método is_luhn_valid sacado de Wikipedia\n",
    "\n",
    "def is_luhn_valid(cc):\n",
    "\n",
    "    num = map(int, str(cc))\n",
    "    return sum(num[::-2] + [sum(divmod(d * 2, 10)) for d in num[-2::-2]]) % 10 == 0"
   ]
  },
  {
   "cell_type": "markdown",
   "id": "c7c5b4bd",
   "metadata": {},
   "source": [
    "2. Explica el funcionamiento del algoritmo de Luhn explicando el resultado sobre varios ejemplos."
   ]
  },
  {
   "cell_type": "markdown",
   "id": "8a9ece95",
   "metadata": {},
   "source": [
    "El algoritmo tiene 4 pasos:\n",
    "    1. Se invierte la secuencia\n",
    "    2. Se multiplica cada dígito par (impar según la indexación de \n",
    "    python) por 2.\n",
    "    3. Se suman el resto de dígitos con los obtenidos en el paso \n",
    "    anterior.\n",
    "    4. Se calcula el módulo 10\n",
    "Si el resultado es 0 entonces la secuencia de dígitos es correcta\n",
    "\n",
    "Por ejemplo, para la secuencia 1234567812345670 tras el algoritmo la suma es 60 por lo que es correcto. Para 1234567812345678 la suma es 68, por lo que no es válido."
   ]
  },
  {
   "cell_type": "markdown",
   "id": "ec8edc78",
   "metadata": {},
   "source": [
    "3. Modifica la clase base `BankAccount`para verificar que el número de cuenta que se pasa a `__init__()` el test de Luhn. Escribe la nueva definición de la clase `BankAccount`a continuación."
   ]
  },
  {
   "cell_type": "code",
   "execution_count": 26,
   "id": "8d662542",
   "metadata": {},
   "outputs": [],
   "source": [
    "class BankAccount:\n",
    "    \"\"\" A abstract base class representing a bank account.\"\"\"\n",
    "    currency = '$'\n",
    "    \n",
    "    def __init__(self, customer, account_number, balance=0):\n",
    "        \"\"\"\n",
    "        Initialize the BankAccount class with a customer, account number \n",
    "        and opening balance (which defaults to 0.)\n",
    "        \"\"\"\n",
    "        \n",
    "        \n",
    "        self.customer = customer\n",
    "        \n",
    "        if self.is_luhn_valid(account_number): self.account_number = account_number\n",
    "        else: print(\"Numero de cuenta no valido\")\n",
    "        \n",
    "        self.balance = balance\n",
    "    \n",
    "    def is_luhn_valid(hilera):\n",
    "        hilera_mod = list(hilera.replace(\" \",\"\"))\n",
    "        hilera_mod = hilera_mod[::-1]\n",
    "        sum_total = 0\n",
    "\n",
    "        for i in range(0,len(hilera_mod)):\n",
    "\n",
    "            #Multiplico por 2 los elementos en índices pares\n",
    "            if(i%2==1):\n",
    "                hilera_mod[i]=2*int(hilera_mod[i])\n",
    "\n",
    "            #Separo los dígitos de los números y los sumo\n",
    "            dig1 = int(hilera_mod[i])//10\n",
    "            dig2 = int(hilera_mod[i])%10\n",
    "            hilera_mod[i] = dig1+dig2\n",
    "\n",
    "            #Sumo todos los elementos\n",
    "            sum_total+=hilera_mod[i]\n",
    "\n",
    "\n",
    "        return sum_total%10==0\n",
    "    \n",
    "    def deposit(self, amount):\n",
    "        \"\"\" Deposit amount into the bank account.\"\"\"\n",
    "        if amount > 0:\n",
    "            self.balance += amount\n",
    "        else:\n",
    "            print('Invalid deposit amount:', amount)\n",
    "            \n",
    "    def withdraw(self, amount):\n",
    "        \"\"\"\n",
    "        Withdraw amount from the bank account, ensuring there are sufficient\n",
    "        funds.\n",
    "        \"\"\"\n",
    "        \n",
    "        if amount > 0:\n",
    "            if amount > self.balance:\n",
    "                print('Insufficient funds')\n",
    "            else:\n",
    "                self.balance -= amount\n",
    "        else:\n",
    "            print('Invalid withdrawal amount:', amount)"
   ]
  },
  {
   "cell_type": "markdown",
   "id": "685a8e92",
   "metadata": {},
   "source": [
    "4. Modifica la clase `Current_Account`para que permita números rojos. El límite en rojo de una cuenta debería ser definido en el constructor `__init__()`permitiendo retirar dinero hasta ese límite. Escribe la nueva definición de la clase BankAccounta continuación."
   ]
  },
  {
   "cell_type": "code",
   "execution_count": 27,
   "id": "c3ad9bbf",
   "metadata": {},
   "outputs": [],
   "source": [
    " class CurrentAccount(BankAccount):\n",
    "    \"\"\" A class representing a current (checking) account. \"\"\"\n",
    "    def __init__(self, customer, account_number, annual_fee,transaction_limit, balance=0):\n",
    "        \"\"\" Initialize the current account. \"\"\"\n",
    "        self.annual_fee = annual_fee\n",
    "        self.transaction_limit = transaction_limit\n",
    "        self.red_limit = 100\n",
    "        super().__init__(customer, account_number, balance)\n",
    "        \n",
    "    def withdraw(self, amount):\n",
    "        \"\"\"\n",
    "        Withdraw amount if sufficient funds exist in the account and amount\n",
    "        is less than the single transaction limit.\n",
    "        \"\"\"\n",
    "        \n",
    "        if amount <= 0:\n",
    "            print('Invalid withdrawal amount:', amount)\n",
    "            return\n",
    "        \n",
    "        if amount > self.balance:\n",
    "            if amount > self.balance + self.red_limit:\n",
    "                print('Insufficient funds')\n",
    "                return\n",
    "            else:\n",
    "                print('Account in debt')\n",
    "\n",
    "        \n",
    "        if amount > self.transaction_limit:\n",
    "            print('{0:s}{1:.2f} exceeds the single transaction limit of {0:s}{2:.2f}'\n",
    "                  .format(self.currency, amount,self.transaction_limit))\n",
    "            return\n",
    "        \n",
    "        self.balance -= amount\n",
    "    \n",
    "    def apply_annual_fee(self):\n",
    "        \"\"\" Deduct the annual fee from the account balance. \"\"\"\n",
    "        self.balance = max(0., self.balance - self.annual_fee)"
   ]
  },
  {
   "cell_type": "markdown",
   "id": "67d2fa90",
   "metadata": {},
   "source": [
    "5. Define dos funciones `add_row()` y `add_column()` que admitan como entrada un array de NumPy y devuelvan una nueva matriz con una fila o una columna más de unos, respectivamente. Comprueba su funcionamiento con"
   ]
  },
  {
   "cell_type": "code",
   "execution_count": 33,
   "id": "0bc4271d",
   "metadata": {},
   "outputs": [],
   "source": [
    "def add_row(matrix):\n",
    "    return np.stack([matrix, np.array([1 for x in range(matrix.shape[0])])])\n",
    "\n",
    "def add_column(matrix):\n",
    "    return np.hstack([matrix,np.reshape(np.array([1 for i in range(matrix.shape[0])]),(2,1))])"
   ]
  },
  {
   "cell_type": "code",
   "execution_count": 34,
   "id": "6a8cb03c",
   "metadata": {},
   "outputs": [
    {
     "name": "stdout",
     "output_type": "stream",
     "text": [
      "antes\n",
      "[1 2 3 4]\n",
      "[[0. 1. 2.]\n",
      " [3. 4. 5.]]\n",
      "despues\n",
      "[[1 2 3 4]\n",
      " [1 1 1 1]]\n",
      "[[0. 1. 2. 1.]\n",
      " [3. 4. 5. 1.]]\n"
     ]
    }
   ],
   "source": [
    "import numpy as np\n",
    "a=np.array([1,2,3,4])\n",
    "b=np.linspace(0,5,6).reshape(2,3)\n",
    "print(\"antes\")\n",
    "print(a)\n",
    "print(b)\n",
    "\n",
    "print(\"despues\")\n",
    "print(add_row(a))\n",
    "print(add_column(b))"
   ]
  },
  {
   "cell_type": "markdown",
   "id": "eaf9b136",
   "metadata": {},
   "source": [
    "6. Escribe una línea de código de Python que devuelva `True`si un array de NumPy es una secuencia de números es estrictamente creciente y `False` en caso contrario. Los métodos de NumPy `np.diif()`y `np.all()` te pueden ayudar.\n",
    "\n",
    "Comprueba su funcionamiento con "
   ]
  },
  {
   "cell_type": "code",
   "execution_count": 57,
   "id": "3926fe19",
   "metadata": {},
   "outputs": [],
   "source": [
    "def growing_array(a): \n",
    "    return np.all(np.diff(a)>0)"
   ]
  },
  {
   "cell_type": "code",
   "execution_count": 58,
   "id": "33a082a2",
   "metadata": {
    "scrolled": true
   },
   "outputs": [
    {
     "name": "stdout",
     "output_type": "stream",
     "text": [
      "[1 2 3 4]\n",
      "[1 1 2 3 4]\n",
      "[0 1 2 3 4 3 5]\n",
      "True\n",
      "False\n",
      "False\n"
     ]
    }
   ],
   "source": [
    "a=np.array([1,2,3,4])\n",
    "b=np.array((1,1,2,3,4))\n",
    "c=np.array((0,1,2,3,4,3,5))\n",
    "\n",
    "print(a)\n",
    "print(b)\n",
    "print(c)\n",
    "print(growing_array(a))\n",
    "print(growing_array(b))\n",
    "print(growing_array(c))"
   ]
  },
  {
   "cell_type": "markdown",
   "id": "189bda11",
   "metadata": {},
   "source": [
    "7. Explica la siguiente conducta de Python"
   ]
  },
  {
   "cell_type": "code",
   "execution_count": 109,
   "id": "dbe3cc47",
   "metadata": {},
   "outputs": [
    {
     "name": "stdout",
     "output_type": "stream",
     "text": [
      "500\n",
      "244\n"
     ]
    }
   ],
   "source": [
    " x = np.uint8(250)\n",
    "print(x*2)\n",
    "\n",
    "\n",
    "x = np.array([250,], dtype=np.uint8)\n",
    "print((x*2)[0])"
   ]
  },
  {
   "cell_type": "markdown",
   "id": "490e04b9",
   "metadata": {},
   "source": [
    "Esto se debe a que en el primer _print_  el resultado de la multiplicación no se almacena en una variable tipo _uint8_, simplemente se calcula y se envía al cauce de salida. En cambio, en el segundo _print_ estamos forzando a que se almacene el resultado de la operación en un elemento de un array de tipo _uint8_ y este solo puede almacenar valores hasta 255, por lo que en cuanto la secuencia de bytes sobrepasa la capacidad la trunca, es por eso que el valor obtenido es 24"
   ]
  },
  {
   "cell_type": "markdown",
   "id": "7fabc93f",
   "metadata": {},
   "source": [
    "8. Escribe código en Python para crear un array de NumPy 10x10 con los elementos de las fronteras cero y el interior 1."
   ]
  },
  {
   "cell_type": "code",
   "execution_count": 13,
   "id": "c8e66c59",
   "metadata": {},
   "outputs": [
    {
     "name": "stdout",
     "output_type": "stream",
     "text": [
      "[[0. 0. 0. 0. 0. 0. 0. 0. 0. 0.]\n",
      " [0. 1. 1. 1. 1. 1. 1. 1. 1. 0.]\n",
      " [0. 1. 1. 1. 1. 1. 1. 1. 1. 0.]\n",
      " [0. 1. 1. 1. 1. 1. 1. 1. 1. 0.]\n",
      " [0. 1. 1. 1. 1. 1. 1. 1. 1. 0.]\n",
      " [0. 1. 1. 1. 1. 1. 1. 1. 1. 0.]\n",
      " [0. 1. 1. 1. 1. 1. 1. 1. 1. 0.]\n",
      " [0. 1. 1. 1. 1. 1. 1. 1. 1. 0.]\n",
      " [0. 1. 1. 1. 1. 1. 1. 1. 1. 0.]\n",
      " [0. 0. 0. 0. 0. 0. 0. 0. 0. 0.]]\n"
     ]
    }
   ],
   "source": [
    "lado_matriz = 10\n",
    "my_array = np.zeros([lado_matriz,lado_matriz])\n",
    "my_array[1:-1,1:-1]=1\n",
    "print(my_array)"
   ]
  },
  {
   "cell_type": "markdown",
   "id": "fefde6c9",
   "metadata": {},
   "source": []
  },
  {
   "cell_type": "markdown",
   "id": "ade85d53",
   "metadata": {},
   "source": [
    "9. Escribe un programa en Python que permute dos filas de una matriz. Prueba, por ejemplo, con las dos primeras filas de "
   ]
  },
  {
   "cell_type": "code",
   "execution_count": 39,
   "id": "c7564a8c",
   "metadata": {},
   "outputs": [],
   "source": [
    "def permuta_filas(matrix,i,j):\n",
    "    fila1 = np.copy(matrix[i])\n",
    "    matrix[i] = matrix[j]\n",
    "    matrix[j] = fila1\n",
    "    return matrix"
   ]
  },
  {
   "cell_type": "code",
   "execution_count": 40,
   "id": "6551e52f",
   "metadata": {},
   "outputs": [
    {
     "name": "stdout",
     "output_type": "stream",
     "text": [
      "[[ 0  1  2  3]\n",
      " [ 4  5  6  7]\n",
      " [ 8  9 10 11]]\n",
      "[[ 4  5  6  7]\n",
      " [ 0  1  2  3]\n",
      " [ 8  9 10 11]]\n"
     ]
    }
   ],
   "source": [
    "my_array = np.arange(12).reshape(3, 4)\n",
    "print(my_array)\n",
    "my_array = permuta_filas(my_array,0,1)\n",
    "print(my_array)"
   ]
  },
  {
   "cell_type": "markdown",
   "id": "aa3b7a39",
   "metadata": {},
   "source": [
    "10. Haz lo mismo con las columnas"
   ]
  },
  {
   "cell_type": "code",
   "execution_count": 42,
   "id": "16578768",
   "metadata": {},
   "outputs": [],
   "source": [
    "def permuta_columnas(matrix,i,j):\n",
    "    col1 = np.copy(matrix[:,i])\n",
    "    matrix[:,i] = matrix[:,j]\n",
    "    matrix[:,j] = col1\n",
    "    return matrix"
   ]
  },
  {
   "cell_type": "code",
   "execution_count": 43,
   "id": "1f4322fd",
   "metadata": {},
   "outputs": [
    {
     "name": "stdout",
     "output_type": "stream",
     "text": [
      "[[ 0  1  2  3]\n",
      " [ 4  5  6  7]\n",
      " [ 8  9 10 11]]\n",
      "[[ 1  0  2  3]\n",
      " [ 5  4  6  7]\n",
      " [ 9  8 10 11]]\n"
     ]
    }
   ],
   "source": [
    "my_array = np.arange(12).reshape(3, 4)\n",
    "print(my_array)\n",
    "my_array = permuta_columnas(my_array,0,1)\n",
    "print(my_array)"
   ]
  },
  {
   "cell_type": "code",
   "execution_count": null,
   "id": "21f7047f",
   "metadata": {},
   "outputs": [],
   "source": []
  }
 ],
 "metadata": {
  "kernelspec": {
   "display_name": "Python 3",
   "language": "python",
   "name": "python3"
  },
  "language_info": {
   "codemirror_mode": {
    "name": "ipython",
    "version": 3
   },
   "file_extension": ".py",
   "mimetype": "text/x-python",
   "name": "python",
   "nbconvert_exporter": "python",
   "pygments_lexer": "ipython3",
   "version": "3.6.13"
  }
 },
 "nbformat": 4,
 "nbformat_minor": 5
}
